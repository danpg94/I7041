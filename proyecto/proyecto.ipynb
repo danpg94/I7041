{
 "cells": [
  {
   "cell_type": "markdown",
   "metadata": {},
   "source": [
    "Librerías del Proyecto"
   ]
  },
  {
   "cell_type": "code",
   "execution_count": null,
   "metadata": {},
   "outputs": [],
   "source": [
    "import numpy as np\n",
    "import pandas as pd\n",
    "import matplotlib.pyplot as plt\n",
    "import seaborn as sns\n",
    "import glob\n",
    "from nltk.tokenize import word_tokenize\n",
    "import os\n",
    "import re\n",
    "import string\n",
    "import nltk\n",
    "from nltk.corpus import stopwords\n",
    "from wordcloud import WordCloud\n",
    "nltk.download('stopwords')\n",
    " \n",
    "# Importing libraries necessary for Model Building and Training\n",
    "import tensorflow as tf\n",
    "from tensorflow.keras.preprocessing.text import Tokenizer\n",
    "from tensorflow.keras.preprocessing.sequence import pad_sequences\n",
    "from sklearn.model_selection import train_test_split\n",
    "from keras.callbacks import EarlyStopping, ReduceLROnPlateau\n",
    " \n",
    "import warnings\n",
    "warnings.filterwarnings('ignore')\n",
    "\n",
    "import mailbox\n",
    "from email import policy\n",
    "from email.parser import BytesParser"
   ]
  },
  {
   "cell_type": "code",
   "execution_count": null,
   "metadata": {},
   "outputs": [],
   "source": [
    "archivo_correo = mailbox.mbox(os.getcwd() + r'\\easy_ham\\0001.ea7e79d3153e7469e7a9c3e0af6a357e')\n",
    "\n",
    "with open(os.getcwd() + r'\\easy_ham\\0001.ea7e79d3153e7469e7a9c3e0af6a357e', 'rb') as fp:\n",
    "    archivo_correo_2 = BytesParser(policy=policy.default).parse(fp)\n",
    "\n",
    "archivo_correo_2.get_payload()\n"
   ]
  },
  {
   "cell_type": "code",
   "execution_count": null,
   "metadata": {},
   "outputs": [],
   "source": [
    "\n",
    "for mensaje in archivo_correo:\n",
    "    print(mensaje.is_multipart())\n",
    "    cuerpo = mensaje.get_payload(decode=True).decode(errors='replace')\n",
    "cuerpo"
   ]
  },
  {
   "cell_type": "markdown",
   "metadata": {},
   "source": [
    "Abriendo las carpetas de spam y no spam:"
   ]
  },
  {
   "cell_type": "code",
   "execution_count": null,
   "metadata": {},
   "outputs": [],
   "source": [
    "os.getcwd()"
   ]
  },
  {
   "cell_type": "code",
   "execution_count": null,
   "metadata": {},
   "outputs": [],
   "source": [
    "def remove_html_markup(s):\n",
    "    tag = False\n",
    "    quote = False\n",
    "    out = \"\"\n",
    "\n",
    "    for c in s:\n",
    "            if c == '<' and not quote:\n",
    "                tag = True\n",
    "            elif c == '>' and not quote:\n",
    "                tag = False\n",
    "            elif (c == '\"' or c == \"'\") and tag:\n",
    "                quote = not quote\n",
    "            elif not tag:\n",
    "                out = out + c\n",
    "\n",
    "    return out"
   ]
  },
  {
   "cell_type": "code",
   "execution_count": 67,
   "metadata": {},
   "outputs": [],
   "source": [
    "CLEANR = re.compile('<.*?>|&([a-z0-9]+|#[0-9]{1,6}|#x[0-9a-f]{1,6});') \n",
    "\n",
    "def cleanhtml(raw_html):\n",
    "  cleantext = re.sub(CLEANR, '', raw_html)\n",
    "  return cleantext"
   ]
  },
  {
   "cell_type": "code",
   "execution_count": 57,
   "metadata": {},
   "outputs": [],
   "source": [
    "def remove_punctuation(text):\n",
    "    punctuationfree=\"\".join([i for i in text if i not in string.punctuation])\n",
    "    return punctuationfree"
   ]
  },
  {
   "cell_type": "code",
   "execution_count": 61,
   "metadata": {},
   "outputs": [],
   "source": [
    "def remove_urls(text):\n",
    "    url_pattern = re.compile(r'https?://S+|www.S+')\n",
    "    return url_pattern.sub(r'', text)"
   ]
  },
  {
   "cell_type": "code",
   "execution_count": 64,
   "metadata": {},
   "outputs": [],
   "source": [
    "def remove_numbers(text):\n",
    "    return ''.join(c for c in text if not c.isdigit())"
   ]
  },
  {
   "cell_type": "code",
   "execution_count": 68,
   "metadata": {},
   "outputs": [],
   "source": [
    "def remove_stopwords(text):\n",
    "    stop_words = stopwords.words('english')\n",
    " \n",
    "    imp_words = []\n",
    " \n",
    "    # Storing the important words\n",
    "    for word in str(text).split():\n",
    "        word = word.lower()\n",
    " \n",
    "        if word not in stop_words:\n",
    "            imp_words.append(word)\n",
    " \n",
    "    output = \" \".join(imp_words)\n",
    " \n",
    "    return output"
   ]
  },
  {
   "cell_type": "code",
   "execution_count": null,
   "metadata": {},
   "outputs": [],
   "source": [
    "def email_parser(mbox, carp):\n",
    "    message = {}\n",
    "    for mensaje in mbox:\n",
    "        cuerpo = \"\"\n",
    "        if mensaje.is_multipart():\n",
    "            # Si el correo tiene varias partes, buscar la parte de texto/html\n",
    "            # message['isMultipart'] = True\n",
    "            for parte in mensaje.get_payload():\n",
    "                if parte.get_content_type() == 'text/plain':\n",
    "                    cuerpo = parte.get_payload(decode=True).decode(errors='replace')\n",
    "                    #cuerpo += cuerpo.translate(str.maketrans('', '', string.punctuation))\n",
    "                if parte.get_content_type() == 'text/html':\n",
    "                    cuerpo = parte.get_payload(decode=True).decode(errors='replace')\n",
    "                    #cuerpo += remove_html_markup(cuerpo)\n",
    "        else:\n",
    "            # message['isMultipart'] = False\n",
    "            # Si el correo es de una sola parte, obtener el cuerpo directamente\n",
    "            if mensaje.get_content_type() == 'text/plain':\n",
    "                char_set = mensaje.get_charset()\n",
    "                cuerpo = mensaje.get_payload(decode=True).decode(errors='replace')\n",
    "                #cuerpo = cuerpo.translate(str.maketrans('', '', string.punctuation))\n",
    "            if mensaje.get_content_type() == 'text/html':\n",
    "                char_set = mensaje.get_charset()\n",
    "                cuerpo = mensaje.get_payload(decode=True).decode(errors='replace')\n",
    "                #cuerpo = remove_html_markup(cuerpo)\n",
    "        message['message'] = cuerpo\n",
    "        message['type'] = carp\n",
    "\n",
    "        return message"
   ]
  },
  {
   "cell_type": "code",
   "execution_count": null,
   "metadata": {},
   "outputs": [],
   "source": [
    "carpeta = [\"spam\", \"easy_ham\"]  # Ruta de la carpeta que deseas leer\n",
    "message_list = []\n",
    "for carp in carpeta:\n",
    "    # Obtener la lista de archivos en la carpeta\n",
    "    lista_archivos = [f'{os.path.join(os.getcwd(), carp)}\\\\{x}' for x in os.listdir(os.path.join(os.getcwd(), carp))]\n",
    "    #print(lista_archivos)\n",
    "    # Leer cada archivo de la lista\n",
    "    for archivo in lista_archivos:\n",
    "        if os.path.isfile(archivo):  # Verificar que sea un archivo\n",
    "            # Abrir el dataset de correos\n",
    "            mbox = mailbox.mbox(archivo)\n",
    "            # Recorrer cada correo en el dataset\n",
    "            message = email_parser(mbox, carp)\n",
    "            if message == None:\n",
    "                print(archivo)\n",
    "            else:\n",
    "                \n",
    "                message_list.append(message)"
   ]
  },
  {
   "cell_type": "code",
   "execution_count": 69,
   "metadata": {},
   "outputs": [],
   "source": [
    "for x in message_list:\n",
    "    x[\"message\"] = re.sub(r\"[^\\x00-\\x7F]+\", \"\", str(x[\"message\"]))\n",
    "    x[\"message\"] = x[\"message\"].replace(\"\\n\", \" \").replace(\"\\t\", \" \").replace(\"\\\\u\", \" \").replace(\"\\r\", \" \").lower()\n",
    "    x[\"message\"] = cleanhtml(x[\"message\"])\n",
    "    x[\"message\"] = remove_html_markup(x[\"message\"])\n",
    "    x[\"message\"] = remove_urls(x[\"message\"])\n",
    "    x[\"message\"] = remove_punctuation(x[\"message\"])\n",
    "    x[\"message\"] = remove_numbers(x[\"message\"])\n",
    "    x[\"message\"] = remove_stopwords(x[\"message\"])"
   ]
  },
  {
   "cell_type": "code",
   "execution_count": 70,
   "metadata": {},
   "outputs": [],
   "source": [
    "with open('messages.csv', 'w') as f:\n",
    "    for x in message_list:\n",
    "        f.write(f'{x[\"type\"]},{x[\"message\"]}\\n')"
   ]
  }
 ],
 "metadata": {
  "kernelspec": {
   "display_name": "env",
   "language": "python",
   "name": "python3"
  },
  "language_info": {
   "codemirror_mode": {
    "name": "ipython",
    "version": 3
   },
   "file_extension": ".py",
   "mimetype": "text/x-python",
   "name": "python",
   "nbconvert_exporter": "python",
   "pygments_lexer": "ipython3",
   "version": "3.11.3"
  }
 },
 "nbformat": 4,
 "nbformat_minor": 2
}
